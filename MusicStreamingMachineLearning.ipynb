{
 "cells": [
  {
   "cell_type": "code",
   "execution_count": 40,
   "metadata": {},
   "outputs": [
    {
     "data": {
      "text/plain": [
       "1.0"
      ]
     },
     "execution_count": 40,
     "metadata": {},
     "output_type": "execute_result"
    }
   ],
   "source": [
    "#Step 1/2: Import the data & clean it\n",
    "import pandas as pd\n",
    "from sklearn.tree import DecisionTreeClassifier\n",
    "from sklearn.model_selection import train_test_split\n",
    "from sklearn.metrics import accuracy_score\n",
    "\n",
    "music_data = pd.read_csv('music.csv')\n",
    "#music_data\n",
    "\n",
    "#Step 3: split the data into 2 data sets: input (which includes age and gender) and output (which includes genre)\n",
    "X = music_data.drop(columns=['genre'])   #this is the input data set, characterized by capital X\n",
    "y = music_data['genre']                 #this is the output data set, characterized by lowercase y\n",
    "X_train, X_test, y_train, y_test = train_test_split(X, y, test_size=0.2)   #allocate 20% of the data set for training\n",
    "\n",
    "#Step 4: create the model\n",
    "model = DecisionTreeClassifier()\n",
    "model.fit(X_train, y_train)\n",
    "#predictions = model.predict([[21,1],[22,0]])    #let's predict what a 21 y.o. male and 22 y.o. female would listen to\n",
    "predictions = model.predict(X_test)\n",
    "#predictions\n",
    "score = accuracy_score(y_test, predictions)\n",
    "score"
   ]
  },
  {
   "cell_type": "code",
   "execution_count": null,
   "metadata": {},
   "outputs": [],
   "source": []
  }
 ],
 "metadata": {
  "kernelspec": {
   "display_name": "Python 3",
   "language": "python",
   "name": "python3"
  },
  "language_info": {
   "codemirror_mode": {
    "name": "ipython",
    "version": 3
   },
   "file_extension": ".py",
   "mimetype": "text/x-python",
   "name": "python",
   "nbconvert_exporter": "python",
   "pygments_lexer": "ipython3",
   "version": "3.7.3"
  }
 },
 "nbformat": 4,
 "nbformat_minor": 2
}
